{
 "cells": [
  {
   "cell_type": "markdown",
   "metadata": {},
   "source": [
    "# Unit 5 - Financial Planning\n"
   ]
  },
  {
   "cell_type": "code",
   "execution_count": 1,
   "metadata": {},
   "outputs": [],
   "source": [
    "# Initial imports\n",
    "import os\n",
    "import requests\n",
    "import pandas as pd\n",
    "from dotenv import load_dotenv\n",
    "import alpaca_trade_api as tradeapi\n",
    "\n",
    "\n",
    "from MCForecastTools import MCSimulation\n",
    "\n",
    "%matplotlib inline"
   ]
  },
  {
   "cell_type": "code",
   "execution_count": 2,
   "metadata": {},
   "outputs": [
    {
     "name": "stdout",
     "output_type": "stream",
     "text": [
      "Alpaca Key type: <class 'str'>\n",
      "Alpaca Secret Key type: <class 'str'>\n"
     ]
    }
   ],
   "source": [
    "# Load .env enviroment variables\n",
    "load_dotenv(dotenv_path=\"keys.env\")\n",
    "\n",
    "alpaca_key = os.getenv(\"API_KEY\")\n",
    "alpaca_secret_key = os.getenv(\"SECRET_API_KEY\")\n",
    "\n",
    "\n",
    "print(f\"Alpaca Key type: {type(alpaca_key)}\")\n",
    "print(f\"Alpaca Secret Key type: {type(alpaca_secret_key)}\")"
   ]
  },
  {
   "cell_type": "code",
   "execution_count": null,
   "metadata": {},
   "outputs": [],
   "source": []
  },
  {
   "cell_type": "markdown",
   "metadata": {},
   "source": [
    "## Part 1 - Personal Finance Planner"
   ]
  },
  {
   "cell_type": "code",
   "execution_count": 3,
   "metadata": {},
   "outputs": [],
   "source": [
    "# Set monthly household income\n",
    "monthly_income = 12000"
   ]
  },
  {
   "cell_type": "markdown",
   "metadata": {},
   "source": [
    "### Collect Crypto Prices Using the `requests` Library"
   ]
  },
  {
   "cell_type": "code",
   "execution_count": 4,
   "metadata": {},
   "outputs": [],
   "source": [
    "# Current amount of crypto assets\n",
    "my_btc = 1.2\n",
    "my_eth = 5.3"
   ]
  },
  {
   "cell_type": "code",
   "execution_count": 5,
   "metadata": {},
   "outputs": [],
   "source": [
    "# Crypto API URLs\n",
    "btc_url = \"https://api.alternative.me/v2/ticker/Bitcoin/?convert=USD\"\n",
    "eth_url = \"https://api.alternative.me/v2/ticker/Ethereum/?convert=USD\""
   ]
  },
  {
   "cell_type": "code",
   "execution_count": 6,
   "metadata": {},
   "outputs": [
    {
     "name": "stdout",
     "output_type": "stream",
     "text": [
      "13756.488\n",
      "2003.8769999999997\n"
     ]
    }
   ],
   "source": [
    "# Fetch current BTC price\n",
    "btc_data = requests.get(btc_url).json()\n",
    "eth_data = requests.get(eth_url).json()\n",
    "\n",
    "\n",
    "# Fetch current ETH price\n",
    "my_btc_price = float(btc_data[\"data\"][\"1\"][\"quotes\"][\"USD\"][\"price\"])\n",
    "my_eth_price = float(eth_data[\"data\"][\"1027\"][\"quotes\"][\"USD\"][\"price\"])\n",
    "\n",
    "\n",
    "\n",
    "# # Compute current value of my crpto\n",
    "# my_btc_value = my_btc_price * df_shares.loc[\"MSFT\"][\"crpto\"]\n",
    "btc_value = my_btc_price * my_btc\n",
    "eth_value = my_eth_price * my_eth\n",
    "# my_eth_value = my_eth_price * df_shares.loc[\"AAPL\"][\"crpto\"]\n",
    "print (btc_value)\n",
    "print (eth_value)\n",
    "\n",
    "# # Print current crypto wallet balance\n",
    "# print(f\"The current value of your {my_btc} BTC is ${my_btc_value:0.2f}\")\n",
    "# print(f\"The current value of your {my_eth} ETH is ${my_eth_value:0.2f}\")"
   ]
  },
  {
   "cell_type": "markdown",
   "metadata": {},
   "source": [
    "### Collect Investments Data Using Alpaca: `SPY` (stocks) and `AGG` (bonds)"
   ]
  },
  {
   "cell_type": "code",
   "execution_count": 7,
   "metadata": {},
   "outputs": [],
   "source": [
    "# Current amount of shares\n",
    "my_agg = 200\n",
    "my_spy = 50"
   ]
  },
  {
   "cell_type": "code",
   "execution_count": 8,
   "metadata": {},
   "outputs": [],
   "source": [
    "# Set Alpaca API key and secret\n",
    "# YOUR CODE HERE!\n",
    "alpaca_key = os.getenv(\"API_KEY\")\n",
    "alpaca_secret_key = os.getenv(\"SECRET_API_KEY\")\n",
    "\n",
    "\n",
    "# Create the Alpaca API object\n",
    "type(alpaca_key)\n",
    "# YOUR CODE HERE!\n",
    "alpaca = tradeapi.REST(\n",
    "    alpaca_key,\n",
    "    alpaca_secret_key,\n",
    "    api_version=\"v2\")\n",
    "\n"
   ]
  },
  {
   "cell_type": "code",
   "execution_count": 9,
   "metadata": {},
   "outputs": [
    {
     "name": "stdout",
     "output_type": "stream",
     "text": [
      "Current AGG closing price: $118.655\n",
      "Current SPY closing price: $318.89\n"
     ]
    }
   ],
   "source": [
    "# Format current date as ISO format\n",
    "# YOUR CODE HERE!\n",
    "today = pd.Timestamp(\"2020-07-14\", tz=\"America/New_York\").isoformat()\n",
    "# Set the tickers\n",
    "tickers = [\"AGG\", \"SPY\"]\n",
    "\n",
    "# Set timeframe to '1D' for Alpaca API\n",
    "timeframe = \"1D\"\n",
    "\n",
    "# Get current closing prices for SPY and AGG\n",
    "\n",
    "# YOUR CODE HERE!\n",
    "df_closing = alpaca.get_barset(\n",
    "    tickers,\n",
    "    timeframe,\n",
    "    start = today,\n",
    "    end = today\n",
    ").df\n",
    "df_closing\n",
    "# Pick AGG and SPY close prices\n",
    "# YOUR CODE HERE!\n",
    "agg_close_price = float(df_closing ['AGG']['close'])\n",
    "\n",
    "spy_close_price = float(df_closing[\"SPY\"]['close'])\n",
    "# Print AGG and SPY close prices\n",
    "\n",
    "print(f\"Current AGG closing price: ${agg_close_price}\")\n",
    "print(f\"Current SPY closing price: ${spy_close_price}\")"
   ]
  },
  {
   "cell_type": "code",
   "execution_count": 10,
   "metadata": {},
   "outputs": [
    {
     "name": "stdout",
     "output_type": "stream",
     "text": [
      "The current value of your 50 SPY shares is $15944.50\n",
      "The current value of your 200 AGG shares is $15944.50\n"
     ]
    }
   ],
   "source": [
    "# Compute the current value of shares\n",
    "# YOUR CODE HERE!\n",
    "my_spy_value = my_spy * spy_close_price\n",
    "my_agg_value = my_spy * spy_close_price\n",
    "# Print current value of share\n",
    "print(f\"The current value of your {my_spy} SPY shares is ${my_spy_value:0.2f}\")\n",
    "print(f\"The current value of your {my_agg} AGG shares is ${my_agg_value:0.2f}\")"
   ]
  },
  {
   "cell_type": "markdown",
   "metadata": {},
   "source": [
    "### Savings Health Analysis"
   ]
  },
  {
   "cell_type": "code",
   "execution_count": 37,
   "metadata": {},
   "outputs": [
    {
     "data": {
      "text/html": [
       "<div>\n",
       "<style scoped>\n",
       "    .dataframe tbody tr th:only-of-type {\n",
       "        vertical-align: middle;\n",
       "    }\n",
       "\n",
       "    .dataframe tbody tr th {\n",
       "        vertical-align: top;\n",
       "    }\n",
       "\n",
       "    .dataframe thead th {\n",
       "        text-align: right;\n",
       "    }\n",
       "</style>\n",
       "<table border=\"1\" class=\"dataframe\">\n",
       "  <thead>\n",
       "    <tr style=\"text-align: right;\">\n",
       "      <th></th>\n",
       "      <th>amounts</th>\n",
       "    </tr>\n",
       "  </thead>\n",
       "  <tbody>\n",
       "    <tr>\n",
       "      <th>crypto</th>\n",
       "      <td>6.5</td>\n",
       "    </tr>\n",
       "    <tr>\n",
       "      <th>stocks</th>\n",
       "      <td>31889.0</td>\n",
       "    </tr>\n",
       "  </tbody>\n",
       "</table>\n",
       "</div>"
      ],
      "text/plain": [
       "        amounts\n",
       "crypto      6.5\n",
       "stocks  31889.0"
      ]
     },
     "metadata": {},
     "output_type": "display_data"
    }
   ],
   "source": [
    "# Create savings DataFrame\n",
    "# YOUR CODE HERE!\n",
    "df_savings = [my_btc + my_eth,my_spy_value + my_agg_value ]\n",
    "df_Savings  = pd.DataFrame(df_savings,index = ['crypto','stocks'],columns =['amounts'])\n",
    "# Display savings DataFrame\n",
    "display(df_Savings)\n"
   ]
  },
  {
   "cell_type": "code",
   "execution_count": 12,
   "metadata": {},
   "outputs": [
    {
     "data": {
      "text/plain": [
       "<matplotlib.axes._subplots.AxesSubplot at 0x1e8ecb30820>"
      ]
     },
     "execution_count": 12,
     "metadata": {},
     "output_type": "execute_result"
    },
    {
     "data": {
      "image/png": "[encoded data removed]",
      "text/plain": [
       "<Figure size 432x288 with 1 Axes>"
      ]
     },
     "metadata": {},
     "output_type": "display_data"
    }
   ],
   "source": [
    "# Plot savings pie chart\n",
    "df_Savings.plot.pie(y=\"amounts\", title=\"Composition of Personal Savings\")"
   ]
  },
  {
   "cell_type": "code",
   "execution_count": 13,
   "metadata": {},
   "outputs": [
    {
     "data": {
      "text/plain": [
       "[6.5, 31889.0, 36000]"
      ]
     },
     "execution_count": 13,
     "metadata": {},
     "output_type": "execute_result"
    }
   ],
   "source": [
    "# Set ideal emergency fund\n",
    "emergency_fund = monthly_income * 3\n",
    "emergency_fund\n",
    "# Calculate total amount of savings\n",
    "# YOUR CODE HERE!\n",
    "total_savings =[my_btc + my_eth, my_spy_value + my_agg_value, emergency_fund]\n",
    "total_savings\n",
    "# Validate saving health\n",
    "\n",
    "# YOUR CODE HERE!\n",
    "\n",
    "\n"
   ]
  },
  {
   "cell_type": "markdown",
   "metadata": {},
   "source": [
    "## Part 2 - Retirement Planning\n",
    "\n",
    "### Monte Carlo Simulation"
   ]
  },
  {
   "cell_type": "code",
   "execution_count": 14,
   "metadata": {},
   "outputs": [],
   "source": [
    "# Set start and end dates of five years back from today.\n",
    "# Sample results may vary from the solution based on the time frame chosen\n",
    "start_date = pd.Timestamp('2015-08-07', tz='America/New_York').isoformat()\n",
    "end_date = pd.Timestamp('2020-08-07', tz='America/New_York').isoformat()"
   ]
  },
  {
   "cell_type": "code",
   "execution_count": 15,
   "metadata": {},
   "outputs": [
    {
     "data": {
      "text/html": [
       "<div>\n",
       "<style scoped>\n",
       "    .dataframe tbody tr th:only-of-type {\n",
       "        vertical-align: middle;\n",
       "    }\n",
       "\n",
       "    .dataframe tbody tr th {\n",
       "        vertical-align: top;\n",
       "    }\n",
       "\n",
       "    .dataframe thead tr th {\n",
       "        text-align: left;\n",
       "    }\n",
       "</style>\n",
       "<table border=\"1\" class=\"dataframe\">\n",
       "  <thead>\n",
       "    <tr>\n",
       "      <th></th>\n",
       "      <th colspan=\"5\" halign=\"left\">AGG</th>\n",
       "      <th colspan=\"5\" halign=\"left\">SPY</th>\n",
       "    </tr>\n",
       "    <tr>\n",
       "      <th></th>\n",
       "      <th>open</th>\n",
       "      <th>high</th>\n",
       "      <th>low</th>\n",
       "      <th>close</th>\n",
       "      <th>volume</th>\n",
       "      <th>open</th>\n",
       "      <th>high</th>\n",
       "      <th>low</th>\n",
       "      <th>close</th>\n",
       "      <th>volume</th>\n",
       "    </tr>\n",
       "  </thead>\n",
       "  <tbody>\n",
       "    <tr>\n",
       "      <th>2015-08-07 00:00:00-04:00</th>\n",
       "      <td>109.14</td>\n",
       "      <td>109.2750</td>\n",
       "      <td>109.035</td>\n",
       "      <td>109.21</td>\n",
       "      <td>2041167</td>\n",
       "      <td>208.16</td>\n",
       "      <td>208.34</td>\n",
       "      <td>206.87</td>\n",
       "      <td>207.93</td>\n",
       "      <td>87669782</td>\n",
       "    </tr>\n",
       "    <tr>\n",
       "      <th>2015-08-10 00:00:00-04:00</th>\n",
       "      <td>109.15</td>\n",
       "      <td>109.1700</td>\n",
       "      <td>108.920</td>\n",
       "      <td>109.06</td>\n",
       "      <td>1149778</td>\n",
       "      <td>209.28</td>\n",
       "      <td>210.67</td>\n",
       "      <td>209.28</td>\n",
       "      <td>210.58</td>\n",
       "      <td>66755890</td>\n",
       "    </tr>\n",
       "    <tr>\n",
       "      <th>2015-08-11 00:00:00-04:00</th>\n",
       "      <td>109.42</td>\n",
       "      <td>109.5765</td>\n",
       "      <td>109.284</td>\n",
       "      <td>109.42</td>\n",
       "      <td>1420907</td>\n",
       "      <td>208.98</td>\n",
       "      <td>209.47</td>\n",
       "      <td>207.76</td>\n",
       "      <td>208.63</td>\n",
       "      <td>88424557</td>\n",
       "    </tr>\n",
       "    <tr>\n",
       "      <th>2015-08-12 00:00:00-04:00</th>\n",
       "      <td>109.55</td>\n",
       "      <td>109.7100</td>\n",
       "      <td>109.350</td>\n",
       "      <td>109.36</td>\n",
       "      <td>1468979</td>\n",
       "      <td>207.11</td>\n",
       "      <td>209.14</td>\n",
       "      <td>205.36</td>\n",
       "      <td>208.89</td>\n",
       "      <td>136171450</td>\n",
       "    </tr>\n",
       "    <tr>\n",
       "      <th>2015-08-13 00:00:00-04:00</th>\n",
       "      <td>109.36</td>\n",
       "      <td>109.3651</td>\n",
       "      <td>109.110</td>\n",
       "      <td>109.15</td>\n",
       "      <td>1465173</td>\n",
       "      <td>208.73</td>\n",
       "      <td>209.55</td>\n",
       "      <td>208.01</td>\n",
       "      <td>208.63</td>\n",
       "      <td>77197796</td>\n",
       "    </tr>\n",
       "  </tbody>\n",
       "</table>\n",
       "</div>"
      ],
      "text/plain": [
       "                              AGG                                         SPY  \\\n",
       "                             open      high      low   close   volume    open   \n",
       "2015-08-07 00:00:00-04:00  109.14  109.2750  109.035  109.21  2041167  208.16   \n",
       "2015-08-10 00:00:00-04:00  109.15  109.1700  108.920  109.06  1149778  209.28   \n",
       "2015-08-11 00:00:00-04:00  109.42  109.5765  109.284  109.42  1420907  208.98   \n",
       "2015-08-12 00:00:00-04:00  109.55  109.7100  109.350  109.36  1468979  207.11   \n",
       "2015-08-13 00:00:00-04:00  109.36  109.3651  109.110  109.15  1465173  208.73   \n",
       "\n",
       "                                                              \n",
       "                             high     low   close     volume  \n",
       "2015-08-07 00:00:00-04:00  208.34  206.87  207.93   87669782  \n",
       "2015-08-10 00:00:00-04:00  210.67  209.28  210.58   66755890  \n",
       "2015-08-11 00:00:00-04:00  209.47  207.76  208.63   88424557  \n",
       "2015-08-12 00:00:00-04:00  209.14  205.36  208.89  136171450  \n",
       "2015-08-13 00:00:00-04:00  209.55  208.01  208.63   77197796  "
      ]
     },
     "execution_count": 15,
     "metadata": {},
     "output_type": "execute_result"
    }
   ],
   "source": [
    "# Get 5 years' worth of historical data for SPY and AGG\n",
    "# YOUR CODE HERE!\n",
    "df_5yr = alpaca.get_barset(\n",
    "    tickers,\n",
    "    timeframe,\n",
    "    start=start_date,\n",
    "    end=end_date\n",
    ").df\n",
    "# Display sample data\n",
    "df_5yr.head()"
   ]
  },
  {
   "cell_type": "code",
   "execution_count": 16,
   "metadata": {},
   "outputs": [],
   "source": [
    "# Configuring a Monte Carlo simulation to forecast 30 years cumulative returns\n",
    "num_sims = 1000\n",
    "\n",
    "mc_30yrs = MCSimulation(\n",
    "     portfolio_data = df_5yr,\n",
    "    num_simulation = num_sims,\n",
    "    num_trading_days = 252*30\n",
    ")"
   ]
  },
  {
   "cell_type": "code",
   "execution_count": 17,
   "metadata": {},
   "outputs": [
    {
     "name": "stdout",
     "output_type": "stream",
     "text": [
      "<MCForecastTools.MCSimulation object at 0x000001E8ECBE2D60>\n"
     ]
    }
   ],
   "source": [
    "# Printing the simulation input data\n",
    "print(mc_30yrs)"
   ]
  },
  {
   "cell_type": "code",
   "execution_count": 18,
   "metadata": {},
   "outputs": [
    {
     "name": "stdout",
     "output_type": "stream",
     "text": [
      "Running Monte Carlo simulation number 0.\n",
      "Running Monte Carlo simulation number 10.\n",
      "Running Monte Carlo simulation number 20.\n",
      "Running Monte Carlo simulation number 30.\n",
      "Running Monte Carlo simulation number 40.\n",
      "Running Monte Carlo simulation number 50.\n",
      "Running Monte Carlo simulation number 60.\n",
      "Running Monte Carlo simulation number 70.\n",
      "Running Monte Carlo simulation number 80.\n",
      "Running Monte Carlo simulation number 90.\n",
      "Running Monte Carlo simulation number 100.\n",
      "Running Monte Carlo simulation number 110.\n",
      "Running Monte Carlo simulation number 120.\n",
      "Running Monte Carlo simulation number 130.\n",
      "Running Monte Carlo simulation number 140.\n",
      "Running Monte Carlo simulation number 150.\n",
      "Running Monte Carlo simulation number 160.\n",
      "Running Monte Carlo simulation number 170.\n",
      "Running Monte Carlo simulation number 180.\n",
      "Running Monte Carlo simulation number 190.\n",
      "Running Monte Carlo simulation number 200.\n",
      "Running Monte Carlo simulation number 210.\n",
      "Running Monte Carlo simulation number 220.\n",
      "Running Monte Carlo simulation number 230.\n",
      "Running Monte Carlo simulation number 240.\n",
      "Running Monte Carlo simulation number 250.\n",
      "Running Monte Carlo simulation number 260.\n",
      "Running Monte Carlo simulation number 270.\n",
      "Running Monte Carlo simulation number 280.\n",
      "Running Monte Carlo simulation number 290.\n",
      "Running Monte Carlo simulation number 300.\n",
      "Running Monte Carlo simulation number 310.\n",
      "Running Monte Carlo simulation number 320.\n",
      "Running Monte Carlo simulation number 330.\n",
      "Running Monte Carlo simulation number 340.\n",
      "Running Monte Carlo simulation number 350.\n",
      "Running Monte Carlo simulation number 360.\n",
      "Running Monte Carlo simulation number 370.\n",
      "Running Monte Carlo simulation number 380.\n",
      "Running Monte Carlo simulation number 390.\n",
      "Running Monte Carlo simulation number 400.\n",
      "Running Monte Carlo simulation number 410.\n",
      "Running Monte Carlo simulation number 420.\n",
      "Running Monte Carlo simulation number 430.\n",
      "Running Monte Carlo simulation number 440.\n",
      "Running Monte Carlo simulation number 450.\n",
      "Running Monte Carlo simulation number 460.\n",
      "Running Monte Carlo simulation number 470.\n",
      "Running Monte Carlo simulation number 480.\n",
      "Running Monte Carlo simulation number 490.\n",
      "Running Monte Carlo simulation number 500.\n",
      "Running Monte Carlo simulation number 510.\n",
      "Running Monte Carlo simulation number 520.\n",
      "Running Monte Carlo simulation number 530.\n",
      "Running Monte Carlo simulation number 540.\n",
      "Running Monte Carlo simulation number 550.\n",
      "Running Monte Carlo simulation number 560.\n",
      "Running Monte Carlo simulation number 570.\n",
      "Running Monte Carlo simulation number 580.\n",
      "Running Monte Carlo simulation number 590.\n",
      "Running Monte Carlo simulation number 600.\n",
      "Running Monte Carlo simulation number 610.\n",
      "Running Monte Carlo simulation number 620.\n",
      "Running Monte Carlo simulation number 630.\n",
      "Running Monte Carlo simulation number 640.\n",
      "Running Monte Carlo simulation number 650.\n",
      "Running Monte Carlo simulation number 660.\n",
      "Running Monte Carlo simulation number 670.\n",
      "Running Monte Carlo simulation number 680.\n",
      "Running Monte Carlo simulation number 690.\n",
      "Running Monte Carlo simulation number 700.\n",
      "Running Monte Carlo simulation number 710.\n",
      "Running Monte Carlo simulation number 720.\n",
      "Running Monte Carlo simulation number 730.\n",
      "Running Monte Carlo simulation number 740.\n",
      "Running Monte Carlo simulation number 750.\n",
      "Running Monte Carlo simulation number 760.\n",
      "Running Monte Carlo simulation number 770.\n",
      "Running Monte Carlo simulation number 780.\n",
      "Running Monte Carlo simulation number 790.\n",
      "Running Monte Carlo simulation number 800.\n",
      "Running Monte Carlo simulation number 810.\n",
      "Running Monte Carlo simulation number 820.\n",
      "Running Monte Carlo simulation number 830.\n",
      "Running Monte Carlo simulation number 840.\n",
      "Running Monte Carlo simulation number 850.\n",
      "Running Monte Carlo simulation number 860.\n",
      "Running Monte Carlo simulation number 870.\n",
      "Running Monte Carlo simulation number 880.\n",
      "Running Monte Carlo simulation number 890.\n",
      "Running Monte Carlo simulation number 900.\n",
      "Running Monte Carlo simulation number 910.\n",
      "Running Monte Carlo simulation number 920.\n",
      "Running Monte Carlo simulation number 930.\n",
      "Running Monte Carlo simulation number 940.\n",
      "Running Monte Carlo simulation number 950.\n",
      "Running Monte Carlo simulation number 960.\n",
      "Running Monte Carlo simulation number 970.\n",
      "Running Monte Carlo simulation number 980.\n",
      "Running Monte Carlo simulation number 990.\n"
     ]
    },
    {
     "data": {
      "text/html": [
       "<div>\n",
       "<style scoped>\n",
       "    .dataframe tbody tr th:only-of-type {\n",
       "        vertical-align: middle;\n",
       "    }\n",
       "\n",
       "    .dataframe tbody tr th {\n",
       "        vertical-align: top;\n",
       "    }\n",
       "\n",
       "    .dataframe thead th {\n",
       "        text-align: right;\n",
       "    }\n",
       "</style>\n",
       "<table border=\"1\" class=\"dataframe\">\n",
       "  <thead>\n",
       "    <tr style=\"text-align: right;\">\n",
       "      <th></th>\n",
       "      <th>0</th>\n",
       "      <th>1</th>\n",
       "      <th>2</th>\n",
       "      <th>3</th>\n",
       "      <th>4</th>\n",
       "      <th>5</th>\n",
       "      <th>6</th>\n",
       "      <th>7</th>\n",
       "      <th>8</th>\n",
       "      <th>9</th>\n",
       "      <th>...</th>\n",
       "      <th>990</th>\n",
       "      <th>991</th>\n",
       "      <th>992</th>\n",
       "      <th>993</th>\n",
       "      <th>994</th>\n",
       "      <th>995</th>\n",
       "      <th>996</th>\n",
       "      <th>997</th>\n",
       "      <th>998</th>\n",
       "      <th>999</th>\n",
       "    </tr>\n",
       "  </thead>\n",
       "  <tbody>\n",
       "    <tr>\n",
       "      <th>0</th>\n",
       "      <td>1.000000</td>\n",
       "      <td>1.000000</td>\n",
       "      <td>1.000000</td>\n",
       "      <td>1.000000</td>\n",
       "      <td>1.000000</td>\n",
       "      <td>1.000000</td>\n",
       "      <td>1.000000</td>\n",
       "      <td>1.000000</td>\n",
       "      <td>1.000000</td>\n",
       "      <td>1.000000</td>\n",
       "      <td>...</td>\n",
       "      <td>1.000000</td>\n",
       "      <td>1.000000</td>\n",
       "      <td>1.000000</td>\n",
       "      <td>1.000000</td>\n",
       "      <td>1.000000</td>\n",
       "      <td>1.000000</td>\n",
       "      <td>1.000000</td>\n",
       "      <td>1.000000</td>\n",
       "      <td>1.000000</td>\n",
       "      <td>1.000000</td>\n",
       "    </tr>\n",
       "    <tr>\n",
       "      <th>1</th>\n",
       "      <td>1.010807</td>\n",
       "      <td>0.998608</td>\n",
       "      <td>0.992577</td>\n",
       "      <td>0.996162</td>\n",
       "      <td>1.006831</td>\n",
       "      <td>1.005302</td>\n",
       "      <td>1.008453</td>\n",
       "      <td>0.997152</td>\n",
       "      <td>0.998119</td>\n",
       "      <td>0.998597</td>\n",
       "      <td>...</td>\n",
       "      <td>0.997354</td>\n",
       "      <td>1.006212</td>\n",
       "      <td>0.999005</td>\n",
       "      <td>0.999023</td>\n",
       "      <td>1.007424</td>\n",
       "      <td>0.991414</td>\n",
       "      <td>1.000564</td>\n",
       "      <td>0.995195</td>\n",
       "      <td>0.995097</td>\n",
       "      <td>0.995905</td>\n",
       "    </tr>\n",
       "    <tr>\n",
       "      <th>2</th>\n",
       "      <td>1.013894</td>\n",
       "      <td>0.996983</td>\n",
       "      <td>0.990810</td>\n",
       "      <td>0.993602</td>\n",
       "      <td>1.008184</td>\n",
       "      <td>0.999133</td>\n",
       "      <td>1.017941</td>\n",
       "      <td>0.993773</td>\n",
       "      <td>1.002197</td>\n",
       "      <td>1.007594</td>\n",
       "      <td>...</td>\n",
       "      <td>0.998224</td>\n",
       "      <td>1.002268</td>\n",
       "      <td>1.000140</td>\n",
       "      <td>1.002602</td>\n",
       "      <td>1.012734</td>\n",
       "      <td>0.990429</td>\n",
       "      <td>1.000385</td>\n",
       "      <td>0.983149</td>\n",
       "      <td>0.987741</td>\n",
       "      <td>0.996157</td>\n",
       "    </tr>\n",
       "    <tr>\n",
       "      <th>3</th>\n",
       "      <td>1.013808</td>\n",
       "      <td>1.002395</td>\n",
       "      <td>0.985804</td>\n",
       "      <td>0.987702</td>\n",
       "      <td>1.002176</td>\n",
       "      <td>1.003226</td>\n",
       "      <td>1.016274</td>\n",
       "      <td>0.990569</td>\n",
       "      <td>0.995279</td>\n",
       "      <td>1.005290</td>\n",
       "      <td>...</td>\n",
       "      <td>0.999139</td>\n",
       "      <td>0.997479</td>\n",
       "      <td>0.991881</td>\n",
       "      <td>1.008513</td>\n",
       "      <td>1.013520</td>\n",
       "      <td>0.998523</td>\n",
       "      <td>0.995682</td>\n",
       "      <td>0.994572</td>\n",
       "      <td>1.002491</td>\n",
       "      <td>0.988594</td>\n",
       "    </tr>\n",
       "    <tr>\n",
       "      <th>4</th>\n",
       "      <td>1.020116</td>\n",
       "      <td>0.997791</td>\n",
       "      <td>0.987486</td>\n",
       "      <td>0.992156</td>\n",
       "      <td>1.009927</td>\n",
       "      <td>1.006615</td>\n",
       "      <td>1.020005</td>\n",
       "      <td>0.996713</td>\n",
       "      <td>0.991381</td>\n",
       "      <td>1.000807</td>\n",
       "      <td>...</td>\n",
       "      <td>1.005780</td>\n",
       "      <td>1.000668</td>\n",
       "      <td>0.995185</td>\n",
       "      <td>1.010580</td>\n",
       "      <td>1.025745</td>\n",
       "      <td>0.994810</td>\n",
       "      <td>0.983137</td>\n",
       "      <td>0.992556</td>\n",
       "      <td>1.008107</td>\n",
       "      <td>0.992878</td>\n",
       "    </tr>\n",
       "    <tr>\n",
       "      <th>...</th>\n",
       "      <td>...</td>\n",
       "      <td>...</td>\n",
       "      <td>...</td>\n",
       "      <td>...</td>\n",
       "      <td>...</td>\n",
       "      <td>...</td>\n",
       "      <td>...</td>\n",
       "      <td>...</td>\n",
       "      <td>...</td>\n",
       "      <td>...</td>\n",
       "      <td>...</td>\n",
       "      <td>...</td>\n",
       "      <td>...</td>\n",
       "      <td>...</td>\n",
       "      <td>...</td>\n",
       "      <td>...</td>\n",
       "      <td>...</td>\n",
       "      <td>...</td>\n",
       "      <td>...</td>\n",
       "      <td>...</td>\n",
       "      <td>...</td>\n",
       "    </tr>\n",
       "    <tr>\n",
       "      <th>7556</th>\n",
       "      <td>8.452591</td>\n",
       "      <td>5.556026</td>\n",
       "      <td>5.579965</td>\n",
       "      <td>9.459256</td>\n",
       "      <td>6.267889</td>\n",
       "      <td>2.289698</td>\n",
       "      <td>13.278329</td>\n",
       "      <td>2.987449</td>\n",
       "      <td>5.262597</td>\n",
       "      <td>17.517983</td>\n",
       "      <td>...</td>\n",
       "      <td>9.080126</td>\n",
       "      <td>13.219932</td>\n",
       "      <td>28.744821</td>\n",
       "      <td>10.330337</td>\n",
       "      <td>5.705298</td>\n",
       "      <td>10.583441</td>\n",
       "      <td>8.286479</td>\n",
       "      <td>8.166418</td>\n",
       "      <td>8.176950</td>\n",
       "      <td>7.376555</td>\n",
       "    </tr>\n",
       "    <tr>\n",
       "      <th>7557</th>\n",
       "      <td>8.445804</td>\n",
       "      <td>5.427415</td>\n",
       "      <td>5.576303</td>\n",
       "      <td>9.471525</td>\n",
       "      <td>6.260430</td>\n",
       "      <td>2.273296</td>\n",
       "      <td>13.262118</td>\n",
       "      <td>2.966314</td>\n",
       "      <td>5.219335</td>\n",
       "      <td>17.456477</td>\n",
       "      <td>...</td>\n",
       "      <td>9.087190</td>\n",
       "      <td>13.188506</td>\n",
       "      <td>28.721876</td>\n",
       "      <td>10.316126</td>\n",
       "      <td>5.719614</td>\n",
       "      <td>10.554236</td>\n",
       "      <td>8.284809</td>\n",
       "      <td>8.194607</td>\n",
       "      <td>8.159087</td>\n",
       "      <td>7.412742</td>\n",
       "    </tr>\n",
       "    <tr>\n",
       "      <th>7558</th>\n",
       "      <td>8.431834</td>\n",
       "      <td>5.457084</td>\n",
       "      <td>5.589959</td>\n",
       "      <td>9.485672</td>\n",
       "      <td>6.241996</td>\n",
       "      <td>2.284301</td>\n",
       "      <td>13.233356</td>\n",
       "      <td>2.953218</td>\n",
       "      <td>5.202115</td>\n",
       "      <td>17.514450</td>\n",
       "      <td>...</td>\n",
       "      <td>9.096122</td>\n",
       "      <td>13.272139</td>\n",
       "      <td>28.680121</td>\n",
       "      <td>10.327869</td>\n",
       "      <td>5.717373</td>\n",
       "      <td>10.624353</td>\n",
       "      <td>8.179588</td>\n",
       "      <td>8.153131</td>\n",
       "      <td>8.097189</td>\n",
       "      <td>7.464059</td>\n",
       "    </tr>\n",
       "    <tr>\n",
       "      <th>7559</th>\n",
       "      <td>8.473804</td>\n",
       "      <td>5.442402</td>\n",
       "      <td>5.549968</td>\n",
       "      <td>9.461260</td>\n",
       "      <td>6.220287</td>\n",
       "      <td>2.295263</td>\n",
       "      <td>13.358362</td>\n",
       "      <td>2.973295</td>\n",
       "      <td>5.180892</td>\n",
       "      <td>17.305051</td>\n",
       "      <td>...</td>\n",
       "      <td>9.180103</td>\n",
       "      <td>13.144766</td>\n",
       "      <td>28.775561</td>\n",
       "      <td>10.290114</td>\n",
       "      <td>5.662813</td>\n",
       "      <td>10.691745</td>\n",
       "      <td>8.222531</td>\n",
       "      <td>8.191343</td>\n",
       "      <td>8.111678</td>\n",
       "      <td>7.500739</td>\n",
       "    </tr>\n",
       "    <tr>\n",
       "      <th>7560</th>\n",
       "      <td>8.425095</td>\n",
       "      <td>5.464141</td>\n",
       "      <td>5.550767</td>\n",
       "      <td>9.484956</td>\n",
       "      <td>6.214690</td>\n",
       "      <td>2.284291</td>\n",
       "      <td>13.431902</td>\n",
       "      <td>2.969074</td>\n",
       "      <td>5.206162</td>\n",
       "      <td>17.194857</td>\n",
       "      <td>...</td>\n",
       "      <td>9.225162</td>\n",
       "      <td>13.171293</td>\n",
       "      <td>28.782214</td>\n",
       "      <td>10.325831</td>\n",
       "      <td>5.706487</td>\n",
       "      <td>10.565883</td>\n",
       "      <td>8.160978</td>\n",
       "      <td>8.145459</td>\n",
       "      <td>8.122724</td>\n",
       "      <td>7.468793</td>\n",
       "    </tr>\n",
       "  </tbody>\n",
       "</table>\n",
       "<p>7561 rows × 1000 columns</p>\n",
       "</div>"
      ],
      "text/plain": [
       "           0         1         2         3         4         5          6    \\\n",
       "0     1.000000  1.000000  1.000000  1.000000  1.000000  1.000000   1.000000   \n",
       "1     1.010807  0.998608  0.992577  0.996162  1.006831  1.005302   1.008453   \n",
       "2     1.013894  0.996983  0.990810  0.993602  1.008184  0.999133   1.017941   \n",
       "3     1.013808  1.002395  0.985804  0.987702  1.002176  1.003226   1.016274   \n",
       "4     1.020116  0.997791  0.987486  0.992156  1.009927  1.006615   1.020005   \n",
       "...        ...       ...       ...       ...       ...       ...        ...   \n",
       "7556  8.452591  5.556026  5.579965  9.459256  6.267889  2.289698  13.278329   \n",
       "7557  8.445804  5.427415  5.576303  9.471525  6.260430  2.273296  13.262118   \n",
       "7558  8.431834  5.457084  5.589959  9.485672  6.241996  2.284301  13.233356   \n",
       "7559  8.473804  5.442402  5.549968  9.461260  6.220287  2.295263  13.358362   \n",
       "7560  8.425095  5.464141  5.550767  9.484956  6.214690  2.284291  13.431902   \n",
       "\n",
       "           7         8          9    ...       990        991        992  \\\n",
       "0     1.000000  1.000000   1.000000  ...  1.000000   1.000000   1.000000   \n",
       "1     0.997152  0.998119   0.998597  ...  0.997354   1.006212   0.999005   \n",
       "2     0.993773  1.002197   1.007594  ...  0.998224   1.002268   1.000140   \n",
       "3     0.990569  0.995279   1.005290  ...  0.999139   0.997479   0.991881   \n",
       "4     0.996713  0.991381   1.000807  ...  1.005780   1.000668   0.995185   \n",
       "...        ...       ...        ...  ...       ...        ...        ...   \n",
       "7556  2.987449  5.262597  17.517983  ...  9.080126  13.219932  28.744821   \n",
       "7557  2.966314  5.219335  17.456477  ...  9.087190  13.188506  28.721876   \n",
       "7558  2.953218  5.202115  17.514450  ...  9.096122  13.272139  28.680121   \n",
       "7559  2.973295  5.180892  17.305051  ...  9.180103  13.144766  28.775561   \n",
       "7560  2.969074  5.206162  17.194857  ...  9.225162  13.171293  28.782214   \n",
       "\n",
       "            993       994        995       996       997       998       999  \n",
       "0      1.000000  1.000000   1.000000  1.000000  1.000000  1.000000  1.000000  \n",
       "1      0.999023  1.007424   0.991414  1.000564  0.995195  0.995097  0.995905  \n",
       "2      1.002602  1.012734   0.990429  1.000385  0.983149  0.987741  0.996157  \n",
       "3      1.008513  1.013520   0.998523  0.995682  0.994572  1.002491  0.988594  \n",
       "4      1.010580  1.025745   0.994810  0.983137  0.992556  1.008107  0.992878  \n",
       "...         ...       ...        ...       ...       ...       ...       ...  \n",
       "7556  10.330337  5.705298  10.583441  8.286479  8.166418  8.176950  7.376555  \n",
       "7557  10.316126  5.719614  10.554236  8.284809  8.194607  8.159087  7.412742  \n",
       "7558  10.327869  5.717373  10.624353  8.179588  8.153131  8.097189  7.464059  \n",
       "7559  10.290114  5.662813  10.691745  8.222531  8.191343  8.111678  7.500739  \n",
       "7560  10.325831  5.706487  10.565883  8.160978  8.145459  8.122724  7.468793  \n",
       "\n",
       "[7561 rows x 1000 columns]"
      ]
     },
     "execution_count": 18,
     "metadata": {},
     "output_type": "execute_result"
    }
   ],
   "source": [
    "# Running a Monte Carlo simulation to forecast 30 years cumulative returns\n",
    "mc_30yrs.calc_cumulative_return()"
   ]
  },
  {
   "cell_type": "code",
   "execution_count": 19,
   "metadata": {},
   "outputs": [
    {
     "data": {
      "image/png": "[encoded data removed]",
      "text/plain": [
       "<Figure size 432x288 with 1 Axes>"
      ]
     },
     "metadata": {
      "needs_background": "light"
     },
     "output_type": "display_data"
    }
   ],
   "source": [
    "# Plot simulation outcomes\n",
    "# YOUR CODE HERE!\n",
    "line_plot = mc_30yrs.plot_simulation()\n",
    "line_plot.get_figure().savefig(\"mc_30yrs_sim_plot.png\", bbox_inches=\"tight\")"
   ]
  },
  {
   "cell_type": "code",
   "execution_count": 20,
   "metadata": {},
   "outputs": [
    {
     "data": {
      "image/png": "[encoded data removed]",
      "text/plain": [
       "<Figure size 432x288 with 1 Axes>"
      ]
     },
     "metadata": {
      "needs_background": "light"
     },
     "output_type": "display_data"
    }
   ],
   "source": [
    "# Plot probability distribution and confidence intervals\n",
    "# YOUR CODE HERE!\n",
    "dist_plot = mc_30yrs.plot_distribution()\n",
    "dist_plot.get_figure().savefig('mc_30yrs_dist_plot.png',box_inches='tight')"
   ]
  },
  {
   "cell_type": "markdown",
   "metadata": {},
   "source": [
    "### Retirement Analysis"
   ]
  },
  {
   "cell_type": "code",
   "execution_count": 23,
   "metadata": {},
   "outputs": [
    {
     "name": "stdout",
     "output_type": "stream",
     "text": [
      "Running Monte Carlo simulation number 0.\n",
      "Running Monte Carlo simulation number 10.\n",
      "Running Monte Carlo simulation number 20.\n",
      "Running Monte Carlo simulation number 30.\n",
      "Running Monte Carlo simulation number 40.\n",
      "Running Monte Carlo simulation number 50.\n",
      "Running Monte Carlo simulation number 60.\n",
      "Running Monte Carlo simulation number 70.\n",
      "Running Monte Carlo simulation number 80.\n",
      "Running Monte Carlo simulation number 90.\n",
      "Running Monte Carlo simulation number 100.\n",
      "Running Monte Carlo simulation number 110.\n",
      "Running Monte Carlo simulation number 120.\n",
      "Running Monte Carlo simulation number 130.\n",
      "Running Monte Carlo simulation number 140.\n",
      "Running Monte Carlo simulation number 150.\n",
      "Running Monte Carlo simulation number 160.\n",
      "Running Monte Carlo simulation number 170.\n",
      "Running Monte Carlo simulation number 180.\n",
      "Running Monte Carlo simulation number 190.\n",
      "Running Monte Carlo simulation number 200.\n",
      "Running Monte Carlo simulation number 210.\n",
      "Running Monte Carlo simulation number 220.\n",
      "Running Monte Carlo simulation number 230.\n",
      "Running Monte Carlo simulation number 240.\n",
      "Running Monte Carlo simulation number 250.\n",
      "Running Monte Carlo simulation number 260.\n",
      "Running Monte Carlo simulation number 270.\n",
      "Running Monte Carlo simulation number 280.\n",
      "Running Monte Carlo simulation number 290.\n",
      "Running Monte Carlo simulation number 300.\n",
      "Running Monte Carlo simulation number 310.\n",
      "Running Monte Carlo simulation number 320.\n",
      "Running Monte Carlo simulation number 330.\n",
      "Running Monte Carlo simulation number 340.\n",
      "Running Monte Carlo simulation number 350.\n",
      "Running Monte Carlo simulation number 360.\n",
      "Running Monte Carlo simulation number 370.\n",
      "Running Monte Carlo simulation number 380.\n",
      "Running Monte Carlo simulation number 390.\n",
      "Running Monte Carlo simulation number 400.\n",
      "Running Monte Carlo simulation number 410.\n",
      "Running Monte Carlo simulation number 420.\n",
      "Running Monte Carlo simulation number 430.\n",
      "Running Monte Carlo simulation number 440.\n",
      "Running Monte Carlo simulation number 450.\n",
      "Running Monte Carlo simulation number 460.\n",
      "Running Monte Carlo simulation number 470.\n",
      "Running Monte Carlo simulation number 480.\n",
      "Running Monte Carlo simulation number 490.\n",
      "Running Monte Carlo simulation number 500.\n",
      "Running Monte Carlo simulation number 510.\n",
      "Running Monte Carlo simulation number 520.\n",
      "Running Monte Carlo simulation number 530.\n",
      "Running Monte Carlo simulation number 540.\n",
      "Running Monte Carlo simulation number 550.\n",
      "Running Monte Carlo simulation number 560.\n",
      "Running Monte Carlo simulation number 570.\n",
      "Running Monte Carlo simulation number 580.\n",
      "Running Monte Carlo simulation number 590.\n",
      "Running Monte Carlo simulation number 600.\n",
      "Running Monte Carlo simulation number 610.\n",
      "Running Monte Carlo simulation number 620.\n",
      "Running Monte Carlo simulation number 630.\n",
      "Running Monte Carlo simulation number 640.\n",
      "Running Monte Carlo simulation number 650.\n",
      "Running Monte Carlo simulation number 660.\n",
      "Running Monte Carlo simulation number 670.\n",
      "Running Monte Carlo simulation number 680.\n",
      "Running Monte Carlo simulation number 690.\n",
      "Running Monte Carlo simulation number 700.\n",
      "Running Monte Carlo simulation number 710.\n",
      "Running Monte Carlo simulation number 720.\n",
      "Running Monte Carlo simulation number 730.\n",
      "Running Monte Carlo simulation number 740.\n",
      "Running Monte Carlo simulation number 750.\n",
      "Running Monte Carlo simulation number 760.\n",
      "Running Monte Carlo simulation number 770.\n",
      "Running Monte Carlo simulation number 780.\n",
      "Running Monte Carlo simulation number 790.\n",
      "Running Monte Carlo simulation number 800.\n",
      "Running Monte Carlo simulation number 810.\n",
      "Running Monte Carlo simulation number 820.\n",
      "Running Monte Carlo simulation number 830.\n",
      "Running Monte Carlo simulation number 840.\n",
      "Running Monte Carlo simulation number 850.\n",
      "Running Monte Carlo simulation number 860.\n",
      "Running Monte Carlo simulation number 870.\n",
      "Running Monte Carlo simulation number 880.\n",
      "Running Monte Carlo simulation number 890.\n",
      "Running Monte Carlo simulation number 900.\n",
      "Running Monte Carlo simulation number 910.\n",
      "Running Monte Carlo simulation number 920.\n",
      "Running Monte Carlo simulation number 930.\n",
      "Running Monte Carlo simulation number 940.\n",
      "Running Monte Carlo simulation number 950.\n",
      "Running Monte Carlo simulation number 960.\n",
      "Running Monte Carlo simulation number 970.\n",
      "Running Monte Carlo simulation number 980.\n",
      "Running Monte Carlo simulation number 990.\n",
      "           0         1         2         3         4         5         6    \\\n",
      "0     1.000000  1.000000  1.000000  1.000000  1.000000  1.000000  1.000000   \n",
      "1     0.992250  0.995473  1.003779  1.006627  0.994432  0.993278  1.004441   \n",
      "2     0.996392  0.997411  1.004294  1.002086  0.996346  1.000661  1.013716   \n",
      "3     1.002212  0.992830  1.004893  0.990909  1.009908  1.002088  1.010999   \n",
      "4     0.998250  0.991780  1.001319  0.992493  1.012464  0.997773  1.020608   \n",
      "...        ...       ...       ...       ...       ...       ...       ...   \n",
      "7556  2.575803  4.458474  7.926107  5.632762  4.232074  5.218119  9.250309   \n",
      "7557  2.582660  4.474247  7.897837  5.665215  4.239343  5.271873  9.229307   \n",
      "7558  2.621527  4.496020  7.886019  5.687057  4.251727  5.265200  9.284550   \n",
      "7559  2.651305  4.495225  7.891752  5.669359  4.301408  5.311357  9.213565   \n",
      "7560  2.638059  4.479667  7.917138  5.655856  4.308256  5.268035  9.227130   \n",
      "\n",
      "           7         8         9    ...       990        991       992  \\\n",
      "0     1.000000  1.000000  1.000000  ...  1.000000   1.000000  1.000000   \n",
      "1     1.000020  1.009489  1.004634  ...  0.999990   0.996486  0.998633   \n",
      "2     1.004042  1.015803  1.010518  ...  1.003353   1.009981  1.000393   \n",
      "3     0.998335  1.009779  1.017934  ...  1.004642   1.008015  1.004305   \n",
      "4     0.998169  1.013204  1.002279  ...  1.003019   1.009391  1.007575   \n",
      "...        ...       ...       ...  ...       ...        ...       ...   \n",
      "7556  4.754667  3.665129  6.636223  ...  4.274970  12.178621  1.964850   \n",
      "7557  4.763041  3.655957  6.664362  ...  4.279039  12.120313  1.976678   \n",
      "7558  4.764169  3.670976  6.615264  ...  4.248856  12.132121  1.994175   \n",
      "7559  4.766483  3.695951  6.605147  ...  4.202427  12.154791  1.989361   \n",
      "7560  4.776414  3.673479  6.607865  ...  4.164153  12.093952  1.981829   \n",
      "\n",
      "           993        994       995        996       997       998        999  \n",
      "0     1.000000   1.000000  1.000000   1.000000  1.000000  1.000000   1.000000  \n",
      "1     1.001723   0.994684  0.999623   1.000266  1.002906  1.004845   0.999096  \n",
      "2     0.995811   1.000736  1.009843   0.996268  1.000735  1.006622   0.994136  \n",
      "3     0.993059   1.000575  1.016756   0.995044  1.001493  1.001087   0.991923  \n",
      "4     0.991572   1.001457  1.022146   0.995599  1.007370  1.003454   0.999240  \n",
      "...        ...        ...       ...        ...       ...       ...        ...  \n",
      "7556  8.919226  14.777093  5.370420  14.759056  6.461501  5.523099  12.230289  \n",
      "7557  8.916792  14.845481  5.390218  14.800576  6.413524  5.536943  12.222234  \n",
      "7558  8.875171  14.913581  5.343264  14.817019  6.395611  5.569139  12.251758  \n",
      "7559  8.891172  14.744749  5.300856  14.801827  6.388623  5.579440  12.215164  \n",
      "7560  8.910437  14.812728  5.307457  14.742091  6.360795  5.556878  12.238639  \n",
      "\n",
      "[7561 rows x 1000 columns]\n"
     ]
    }
   ],
   "source": [
    "# Fetch summary statistics from the Monte Carlo simulation results\n",
    "tbl = mc_30yrs.calc_cumulative_return()\n",
    "\n",
    "# Print summary statistics\n",
    "print(tbl)"
   ]
  },
  {
   "cell_type": "markdown",
   "metadata": {},
   "source": [
    "### Given an initial investment of $20,000, what is the expected portfolio return in dollars at the 95% lower and upper confidence intervals?"
   ]
  },
  {
   "cell_type": "code",
   "execution_count": 33,
   "metadata": {},
   "outputs": [
    {
     "name": "stdout",
     "output_type": "stream",
     "text": [
      "There is a 95% chance that an initial investment of $20000 in the portfolio over the next 30 years will end within in the range of $44094.44 and $343139.75\n"
     ]
    }
   ],
   "source": [
    "# Set initial investment\n",
    "initial_investment = 20000\n",
    "\n",
    "simulated_return_data = {\n",
    "    \"mean\": list(mc_30yrs.simulated_return.mean(axis=1)),\n",
    "    \"median\": list(mc_30yrs.simulated_return.median(axis=1)),\n",
    "    \"min\": list(mc_30yrs.simulated_return.min(axis=1)),\n",
    "    \"max\": list(mc_30yrs.simulated_return.max(axis=1))\n",
    "}\n",
    "\n",
    "df_simulated_return = pd.DataFrame(simulated_return_data)\n",
    "\n",
    "cumulative_return = initial_investment * df_simulated_return\n",
    "\n",
    "# Use the lower and upper `95%` confidence intervals to calculate the range of the possible outcomes of our $20,000\n",
    "# YOUR CODE HERE!\n",
    "\n",
    "tbl =mc_30yrs.summarize_cumulative_return()\n",
    "\n",
    "ci_lower = round(tbl[8]*20000,2)\n",
    "ci_upper = round(tbl[9]*20000,2)\n",
    "\n",
    "# Print results\n",
    "print(f\"There is a 95% chance that an initial investment of ${initial_investment} in the portfolio\"\n",
    "      f\" over the next 30 years will end within in the range of\"\n",
    "      f\" ${ci_lower} and ${ci_upper}\")"
   ]
  },
  {
   "cell_type": "code",
   "execution_count": null,
   "metadata": {},
   "outputs": [],
   "source": [
    "# How would a 50% increase in the initial investment amount affect the expected portfolio return in dollars at the 95% lower and upper confidence intervals?"
   ]
  },
  {
   "cell_type": "code",
   "execution_count": 35,
   "metadata": {},
   "outputs": [
    {
     "name": "stdout",
     "output_type": "stream",
     "text": [
      "There is a 95% chance that an initial investment of $20000 in the portfolio over the next 30 years will end within in the range of $66141.67 and $514709.63\n"
     ]
    }
   ],
   "source": [
    "# Set initial investment\n",
    "initial_investment2 = 20000 * .5\n",
    "cumulative_return = initial_investment2 * df_simulated_return\n",
    "\n",
    "\n",
    "# Use the lower and upper `95%` confidence intervals to calculate the range of the possible outcomes of our $30,000\n",
    "# YOUR CODE HERE!\n",
    "\n",
    "\n",
    "\n",
    "tbl =mc_30yrs.summarize_cumulative_return()\n",
    "\n",
    "ci_lower = round(tbl[8]*30000,2)\n",
    "ci_upper = round(tbl[9]*30000,2)\n",
    "\n",
    "\n",
    "# Print results\n",
    "print(f\"There is a 95% chance that an initial investment of ${initial_investment} in the portfolio\"\n",
    "      f\" over the next 30 years will end within in the range of\"\n",
    "      f\" ${ci_lower} and ${ci_upper}\")"
   ]
  },
  {
   "cell_type": "markdown",
   "metadata": {},
   "source": [
    "## Optional Challenge - Early Retirement\n",
    "\n",
    "\n",
    "### Five Years Retirement Option"
   ]
  },
  {
   "cell_type": "code",
   "execution_count": null,
   "metadata": {},
   "outputs": [],
   "source": [
    "# Configuring a Monte Carlo simulation to forecast 5 years cumulative returns\n",
    "# YOUR CODE HERE!"
   ]
  },
  {
   "cell_type": "code",
   "execution_count": null,
   "metadata": {},
   "outputs": [],
   "source": [
    "# Running a Monte Carlo simulation to forecast 5 years cumulative returns\n",
    "# YOUR CODE HERE!"
   ]
  },
  {
   "cell_type": "code",
   "execution_count": null,
   "metadata": {},
   "outputs": [],
   "source": [
    "# Plot simulation outcomes\n",
    "# YOUR CODE HERE!"
   ]
  },
  {
   "cell_type": "code",
   "execution_count": null,
   "metadata": {},
   "outputs": [],
   "source": [
    "# Plot probability distribution and confidence intervals\n",
    "# YOUR CODE HERE!"
   ]
  },
  {
   "cell_type": "code",
   "execution_count": null,
   "metadata": {},
   "outputs": [],
   "source": [
    "# Fetch summary statistics from the Monte Carlo simulation results\n",
    "# YOUR CODE HERE!\n",
    "\n",
    "# Print summary statistics\n",
    "print(tbl_five)"
   ]
  },
  {
   "cell_type": "code",
   "execution_count": null,
   "metadata": {},
   "outputs": [],
   "source": [
    "# Set initial investment\n",
    "# YOUR CODE HERE!\n",
    "\n",
    "# Use the lower and upper `95%` confidence intervals to calculate the range of the possible outcomes of our $60,000\n",
    "# YOUR CODE HERE!\n",
    "\n",
    "# Print results\n",
    "print(f\"There is a 95% chance that an initial investment of ${initial_investment} in the portfolio\"\n",
    "      f\" over the next 5 years will end within in the range of\"\n",
    "      f\" ${ci_lower_five} and ${ci_upper_five}\")"
   ]
  },
  {
   "cell_type": "markdown",
   "metadata": {},
   "source": [
    "### Ten Years Retirement Option"
   ]
  },
  {
   "cell_type": "code",
   "execution_count": null,
   "metadata": {},
   "outputs": [],
   "source": [
    "# Configuring a Monte Carlo simulation to forecast 10 years cumulative returns\n",
    "# YOUR CODE HERE!"
   ]
  },
  {
   "cell_type": "code",
   "execution_count": null,
   "metadata": {},
   "outputs": [],
   "source": [
    "# Running a Monte Carlo simulation to forecast 10 years cumulative returns\n",
    "# YOUR CODE HERE!"
   ]
  },
  {
   "cell_type": "code",
   "execution_count": null,
   "metadata": {},
   "outputs": [],
   "source": [
    "# Plot simulation outcomes\n",
    "# YOUR CODE HERE!"
   ]
  },
  {
   "cell_type": "code",
   "execution_count": null,
   "metadata": {},
   "outputs": [],
   "source": [
    "# Plot probability distribution and confidence intervals\n",
    "# YOUR CODE HERE!"
   ]
  },
  {
   "cell_type": "code",
   "execution_count": null,
   "metadata": {},
   "outputs": [],
   "source": [
    "# Fetch summary statistics from the Monte Carlo simulation results\n",
    "# YOUR CODE HERE!\n",
    "\n",
    "# Print summary statistics\n",
    "print(tbl_ten)"
   ]
  },
  {
   "cell_type": "code",
   "execution_count": null,
   "metadata": {},
   "outputs": [],
   "source": [
    "# Set initial investment\n",
    "# YOUR CODE HERE!\n",
    "\n",
    "# Use the lower and upper `95%` confidence intervals to calculate the range of the possible outcomes of our $60,000\n",
    "# YOUR CODE HERE!\n",
    "\n",
    "# Print results\n",
    "print(f\"There is a 95% chance that an initial investment of ${initial_investment} in the portfolio\"\n",
    "      f\" over the next 10 years will end within in the range of\"\n",
    "      f\" ${ci_lower_ten} and ${ci_upper_ten}\")"
   ]
  }
 ],
 "metadata": {
  "kernelspec": {
   "display_name": "Python 3",
   "language": "python",
   "name": "python3"
  },
  "language_info": {
   "codemirror_mode": {
    "name": "ipython",
    "version": 3
   },
   "file_extension": ".py",
   "mimetype": "text/x-python",
   "name": "python",
   "nbconvert_exporter": "python",
   "pygments_lexer": "ipython3",
   "version": "3.8.3"
  }
 },
 "nbformat": 4,
 "nbformat_minor": 4
}
